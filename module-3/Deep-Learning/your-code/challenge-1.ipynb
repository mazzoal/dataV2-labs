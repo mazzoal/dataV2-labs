{
 "cells": [
  {
   "cell_type": "markdown",
   "metadata": {},
   "source": [
    "# Challenge 1 - Tic Tac Toe\n",
    "\n",
    "In this lab you will perform deep learning analysis on a dataset of playing [Tic Tac Toe](https://en.wikipedia.org/wiki/Tic-tac-toe).\n",
    "\n",
    "There are 9 grids in Tic Tac Toe that are coded as the following picture shows:\n",
    "\n",
    "![Tic Tac Toe Grids](tttboard.jpg)\n",
    "\n",
    "In the first 9 columns of the dataset you can find which marks (`x` or `o`) exist in the grids. If there is no mark in a certain grid, it is labeled as `b`. The last column is `class` which tells you whether Player X (who always moves first in Tic Tac Toe) wins in this configuration. Note that when `class` has the value `False`, it means either Player O wins the game or it ends up as a draw."
   ]
  },
  {
   "cell_type": "markdown",
   "metadata": {},
   "source": [
    "Follow the steps suggested below to conduct a neural network analysis using Tensorflow and Keras. You will build a deep learning model to predict whether Player X wins the game or not.\n",
    "\n",
    "## Step 1: Data Engineering\n",
    "\n",
    "This dataset is almost in the ready-to-use state so you do not need to worry about missing values and so on. Still, some simple data engineering is needed.\n",
    "\n",
    "1. Read `tic-tac-toe.csv` into a dataframe.\n",
    "1. Inspect the dataset. Determine if the dataset is reliable by eyeballing the data.\n",
    "1. Convert the categorical values to numeric in all columns.\n",
    "1. Separate the inputs and output.\n",
    "1. Normalize the input data."
   ]
  },
  {
   "cell_type": "code",
   "execution_count": 39,
   "metadata": {},
   "outputs": [],
   "source": [
    "import pandas as pd\n",
    "import numpy as np\n",
    "from sklearn import preprocessing"
   ]
  },
  {
   "cell_type": "code",
   "execution_count": 26,
   "metadata": {},
   "outputs": [
    {
     "data": {
      "text/html": [
       "<div>\n",
       "<style scoped>\n",
       "    .dataframe tbody tr th:only-of-type {\n",
       "        vertical-align: middle;\n",
       "    }\n",
       "\n",
       "    .dataframe tbody tr th {\n",
       "        vertical-align: top;\n",
       "    }\n",
       "\n",
       "    .dataframe thead th {\n",
       "        text-align: right;\n",
       "    }\n",
       "</style>\n",
       "<table border=\"1\" class=\"dataframe\">\n",
       "  <thead>\n",
       "    <tr style=\"text-align: right;\">\n",
       "      <th></th>\n",
       "      <th>TL</th>\n",
       "      <th>TM</th>\n",
       "      <th>TR</th>\n",
       "      <th>ML</th>\n",
       "      <th>MM</th>\n",
       "      <th>MR</th>\n",
       "      <th>BL</th>\n",
       "      <th>BM</th>\n",
       "      <th>BR</th>\n",
       "      <th>class</th>\n",
       "    </tr>\n",
       "  </thead>\n",
       "  <tbody>\n",
       "    <tr>\n",
       "      <td>0</td>\n",
       "      <td>x</td>\n",
       "      <td>x</td>\n",
       "      <td>x</td>\n",
       "      <td>x</td>\n",
       "      <td>o</td>\n",
       "      <td>o</td>\n",
       "      <td>x</td>\n",
       "      <td>o</td>\n",
       "      <td>o</td>\n",
       "      <td>True</td>\n",
       "    </tr>\n",
       "    <tr>\n",
       "      <td>1</td>\n",
       "      <td>x</td>\n",
       "      <td>x</td>\n",
       "      <td>x</td>\n",
       "      <td>x</td>\n",
       "      <td>o</td>\n",
       "      <td>o</td>\n",
       "      <td>o</td>\n",
       "      <td>x</td>\n",
       "      <td>o</td>\n",
       "      <td>True</td>\n",
       "    </tr>\n",
       "    <tr>\n",
       "      <td>2</td>\n",
       "      <td>x</td>\n",
       "      <td>x</td>\n",
       "      <td>x</td>\n",
       "      <td>x</td>\n",
       "      <td>o</td>\n",
       "      <td>o</td>\n",
       "      <td>o</td>\n",
       "      <td>o</td>\n",
       "      <td>x</td>\n",
       "      <td>True</td>\n",
       "    </tr>\n",
       "    <tr>\n",
       "      <td>3</td>\n",
       "      <td>x</td>\n",
       "      <td>x</td>\n",
       "      <td>x</td>\n",
       "      <td>x</td>\n",
       "      <td>o</td>\n",
       "      <td>o</td>\n",
       "      <td>o</td>\n",
       "      <td>b</td>\n",
       "      <td>b</td>\n",
       "      <td>True</td>\n",
       "    </tr>\n",
       "    <tr>\n",
       "      <td>4</td>\n",
       "      <td>x</td>\n",
       "      <td>x</td>\n",
       "      <td>x</td>\n",
       "      <td>x</td>\n",
       "      <td>o</td>\n",
       "      <td>o</td>\n",
       "      <td>b</td>\n",
       "      <td>o</td>\n",
       "      <td>b</td>\n",
       "      <td>True</td>\n",
       "    </tr>\n",
       "  </tbody>\n",
       "</table>\n",
       "</div>"
      ],
      "text/plain": [
       "  TL TM TR ML MM MR BL BM BR  class\n",
       "0  x  x  x  x  o  o  x  o  o   True\n",
       "1  x  x  x  x  o  o  o  x  o   True\n",
       "2  x  x  x  x  o  o  o  o  x   True\n",
       "3  x  x  x  x  o  o  o  b  b   True\n",
       "4  x  x  x  x  o  o  b  o  b   True"
      ]
     },
     "execution_count": 26,
     "metadata": {},
     "output_type": "execute_result"
    }
   ],
   "source": [
    "# your code here\n",
    "df = pd.read_csv('tic-tac-toe.csv')\n",
    "df.head()"
   ]
  },
  {
   "cell_type": "code",
   "execution_count": 36,
   "metadata": {},
   "outputs": [
    {
     "name": "stdout",
     "output_type": "stream",
     "text": [
      "<class 'pandas.core.frame.DataFrame'>\n",
      "RangeIndex: 958 entries, 0 to 957\n",
      "Data columns (total 10 columns):\n",
      "TL       958 non-null int8\n",
      "TM       958 non-null int8\n",
      "TR       958 non-null int8\n",
      "ML       958 non-null int8\n",
      "MM       958 non-null int8\n",
      "MR       958 non-null int8\n",
      "BL       958 non-null int8\n",
      "BM       958 non-null int8\n",
      "BR       958 non-null int8\n",
      "class    958 non-null int8\n",
      "dtypes: int8(10)\n",
      "memory usage: 9.5 KB\n"
     ]
    }
   ],
   "source": [
    "df.info()"
   ]
  },
  {
   "cell_type": "code",
   "execution_count": 37,
   "metadata": {},
   "outputs": [
    {
     "data": {
      "text/html": [
       "<div>\n",
       "<style scoped>\n",
       "    .dataframe tbody tr th:only-of-type {\n",
       "        vertical-align: middle;\n",
       "    }\n",
       "\n",
       "    .dataframe tbody tr th {\n",
       "        vertical-align: top;\n",
       "    }\n",
       "\n",
       "    .dataframe thead th {\n",
       "        text-align: right;\n",
       "    }\n",
       "</style>\n",
       "<table border=\"1\" class=\"dataframe\">\n",
       "  <thead>\n",
       "    <tr style=\"text-align: right;\">\n",
       "      <th></th>\n",
       "      <th>TL</th>\n",
       "      <th>TM</th>\n",
       "      <th>TR</th>\n",
       "      <th>ML</th>\n",
       "      <th>MM</th>\n",
       "      <th>MR</th>\n",
       "      <th>BL</th>\n",
       "      <th>BM</th>\n",
       "      <th>BR</th>\n",
       "      <th>class</th>\n",
       "    </tr>\n",
       "  </thead>\n",
       "  <tbody>\n",
       "    <tr>\n",
       "      <td>0</td>\n",
       "      <td>2</td>\n",
       "      <td>2</td>\n",
       "      <td>2</td>\n",
       "      <td>2</td>\n",
       "      <td>1</td>\n",
       "      <td>1</td>\n",
       "      <td>2</td>\n",
       "      <td>1</td>\n",
       "      <td>1</td>\n",
       "      <td>1</td>\n",
       "    </tr>\n",
       "    <tr>\n",
       "      <td>1</td>\n",
       "      <td>2</td>\n",
       "      <td>2</td>\n",
       "      <td>2</td>\n",
       "      <td>2</td>\n",
       "      <td>1</td>\n",
       "      <td>1</td>\n",
       "      <td>1</td>\n",
       "      <td>2</td>\n",
       "      <td>1</td>\n",
       "      <td>1</td>\n",
       "    </tr>\n",
       "    <tr>\n",
       "      <td>2</td>\n",
       "      <td>2</td>\n",
       "      <td>2</td>\n",
       "      <td>2</td>\n",
       "      <td>2</td>\n",
       "      <td>1</td>\n",
       "      <td>1</td>\n",
       "      <td>1</td>\n",
       "      <td>1</td>\n",
       "      <td>2</td>\n",
       "      <td>1</td>\n",
       "    </tr>\n",
       "    <tr>\n",
       "      <td>3</td>\n",
       "      <td>2</td>\n",
       "      <td>2</td>\n",
       "      <td>2</td>\n",
       "      <td>2</td>\n",
       "      <td>1</td>\n",
       "      <td>1</td>\n",
       "      <td>1</td>\n",
       "      <td>0</td>\n",
       "      <td>0</td>\n",
       "      <td>1</td>\n",
       "    </tr>\n",
       "    <tr>\n",
       "      <td>4</td>\n",
       "      <td>2</td>\n",
       "      <td>2</td>\n",
       "      <td>2</td>\n",
       "      <td>2</td>\n",
       "      <td>1</td>\n",
       "      <td>1</td>\n",
       "      <td>0</td>\n",
       "      <td>1</td>\n",
       "      <td>0</td>\n",
       "      <td>1</td>\n",
       "    </tr>\n",
       "  </tbody>\n",
       "</table>\n",
       "</div>"
      ],
      "text/plain": [
       "   TL  TM  TR  ML  MM  MR  BL  BM  BR  class\n",
       "0   2   2   2   2   1   1   2   1   1      1\n",
       "1   2   2   2   2   1   1   1   2   1      1\n",
       "2   2   2   2   2   1   1   1   1   2      1\n",
       "3   2   2   2   2   1   1   1   0   0      1\n",
       "4   2   2   2   2   1   1   0   1   0      1"
      ]
     },
     "execution_count": 37,
     "metadata": {},
     "output_type": "execute_result"
    }
   ],
   "source": [
    "df.head()"
   ]
  },
  {
   "cell_type": "code",
   "execution_count": 28,
   "metadata": {},
   "outputs": [
    {
     "data": {
      "text/plain": [
       "array(['o', 'x', 'b'], dtype=object)"
      ]
     },
     "execution_count": 28,
     "metadata": {},
     "output_type": "execute_result"
    }
   ],
   "source": [
    "df[\"BR\"].unique()"
   ]
  },
  {
   "cell_type": "code",
   "execution_count": 29,
   "metadata": {},
   "outputs": [
    {
     "data": {
      "text/plain": [
       "Series([], dtype: int64)"
      ]
     },
     "execution_count": 29,
     "metadata": {},
     "output_type": "execute_result"
    }
   ],
   "source": [
    "null_cols = df.isnull().sum()\n",
    "null_cols[null_cols > 0]"
   ]
  },
  {
   "cell_type": "code",
   "execution_count": 32,
   "metadata": {},
   "outputs": [],
   "source": [
    "df = df.astype('category')"
   ]
  },
  {
   "cell_type": "code",
   "execution_count": 34,
   "metadata": {},
   "outputs": [],
   "source": [
    "df = df.apply(lambda x: x.cat.codes)"
   ]
  },
  {
   "cell_type": "code",
   "execution_count": 40,
   "metadata": {},
   "outputs": [],
   "source": [
    "x=df[df.columns.difference([\"class\"])]\n",
    "y=df[\"class\"]"
   ]
  },
  {
   "cell_type": "code",
   "execution_count": 63,
   "metadata": {},
   "outputs": [
    {
     "data": {
      "text/html": [
       "<div>\n",
       "<style scoped>\n",
       "    .dataframe tbody tr th:only-of-type {\n",
       "        vertical-align: middle;\n",
       "    }\n",
       "\n",
       "    .dataframe tbody tr th {\n",
       "        vertical-align: top;\n",
       "    }\n",
       "\n",
       "    .dataframe thead th {\n",
       "        text-align: right;\n",
       "    }\n",
       "</style>\n",
       "<table border=\"1\" class=\"dataframe\">\n",
       "  <thead>\n",
       "    <tr style=\"text-align: right;\">\n",
       "      <th></th>\n",
       "      <th>BL</th>\n",
       "      <th>BM</th>\n",
       "      <th>BR</th>\n",
       "      <th>ML</th>\n",
       "      <th>MM</th>\n",
       "      <th>MR</th>\n",
       "      <th>TL</th>\n",
       "      <th>TM</th>\n",
       "      <th>TR</th>\n",
       "    </tr>\n",
       "  </thead>\n",
       "  <tbody>\n",
       "    <tr>\n",
       "      <td>0</td>\n",
       "      <td>1.0</td>\n",
       "      <td>0.5</td>\n",
       "      <td>0.5</td>\n",
       "      <td>1.0</td>\n",
       "      <td>0.5</td>\n",
       "      <td>0.5</td>\n",
       "      <td>1.0</td>\n",
       "      <td>1.0</td>\n",
       "      <td>1.0</td>\n",
       "    </tr>\n",
       "    <tr>\n",
       "      <td>1</td>\n",
       "      <td>0.5</td>\n",
       "      <td>1.0</td>\n",
       "      <td>0.5</td>\n",
       "      <td>1.0</td>\n",
       "      <td>0.5</td>\n",
       "      <td>0.5</td>\n",
       "      <td>1.0</td>\n",
       "      <td>1.0</td>\n",
       "      <td>1.0</td>\n",
       "    </tr>\n",
       "    <tr>\n",
       "      <td>2</td>\n",
       "      <td>0.5</td>\n",
       "      <td>0.5</td>\n",
       "      <td>1.0</td>\n",
       "      <td>1.0</td>\n",
       "      <td>0.5</td>\n",
       "      <td>0.5</td>\n",
       "      <td>1.0</td>\n",
       "      <td>1.0</td>\n",
       "      <td>1.0</td>\n",
       "    </tr>\n",
       "    <tr>\n",
       "      <td>3</td>\n",
       "      <td>0.5</td>\n",
       "      <td>0.0</td>\n",
       "      <td>0.0</td>\n",
       "      <td>1.0</td>\n",
       "      <td>0.5</td>\n",
       "      <td>0.5</td>\n",
       "      <td>1.0</td>\n",
       "      <td>1.0</td>\n",
       "      <td>1.0</td>\n",
       "    </tr>\n",
       "    <tr>\n",
       "      <td>4</td>\n",
       "      <td>0.0</td>\n",
       "      <td>0.5</td>\n",
       "      <td>0.0</td>\n",
       "      <td>1.0</td>\n",
       "      <td>0.5</td>\n",
       "      <td>0.5</td>\n",
       "      <td>1.0</td>\n",
       "      <td>1.0</td>\n",
       "      <td>1.0</td>\n",
       "    </tr>\n",
       "    <tr>\n",
       "      <td>...</td>\n",
       "      <td>...</td>\n",
       "      <td>...</td>\n",
       "      <td>...</td>\n",
       "      <td>...</td>\n",
       "      <td>...</td>\n",
       "      <td>...</td>\n",
       "      <td>...</td>\n",
       "      <td>...</td>\n",
       "      <td>...</td>\n",
       "    </tr>\n",
       "    <tr>\n",
       "      <td>953</td>\n",
       "      <td>0.5</td>\n",
       "      <td>1.0</td>\n",
       "      <td>1.0</td>\n",
       "      <td>1.0</td>\n",
       "      <td>0.5</td>\n",
       "      <td>0.5</td>\n",
       "      <td>0.5</td>\n",
       "      <td>1.0</td>\n",
       "      <td>1.0</td>\n",
       "    </tr>\n",
       "    <tr>\n",
       "      <td>954</td>\n",
       "      <td>1.0</td>\n",
       "      <td>0.5</td>\n",
       "      <td>1.0</td>\n",
       "      <td>1.0</td>\n",
       "      <td>1.0</td>\n",
       "      <td>0.5</td>\n",
       "      <td>0.5</td>\n",
       "      <td>1.0</td>\n",
       "      <td>0.5</td>\n",
       "    </tr>\n",
       "    <tr>\n",
       "      <td>955</td>\n",
       "      <td>1.0</td>\n",
       "      <td>0.5</td>\n",
       "      <td>1.0</td>\n",
       "      <td>1.0</td>\n",
       "      <td>0.5</td>\n",
       "      <td>1.0</td>\n",
       "      <td>0.5</td>\n",
       "      <td>1.0</td>\n",
       "      <td>0.5</td>\n",
       "    </tr>\n",
       "    <tr>\n",
       "      <td>956</td>\n",
       "      <td>1.0</td>\n",
       "      <td>0.5</td>\n",
       "      <td>1.0</td>\n",
       "      <td>0.5</td>\n",
       "      <td>1.0</td>\n",
       "      <td>1.0</td>\n",
       "      <td>0.5</td>\n",
       "      <td>1.0</td>\n",
       "      <td>0.5</td>\n",
       "    </tr>\n",
       "    <tr>\n",
       "      <td>957</td>\n",
       "      <td>0.5</td>\n",
       "      <td>1.0</td>\n",
       "      <td>1.0</td>\n",
       "      <td>1.0</td>\n",
       "      <td>1.0</td>\n",
       "      <td>0.5</td>\n",
       "      <td>0.5</td>\n",
       "      <td>0.5</td>\n",
       "      <td>1.0</td>\n",
       "    </tr>\n",
       "  </tbody>\n",
       "</table>\n",
       "<p>958 rows × 9 columns</p>\n",
       "</div>"
      ],
      "text/plain": [
       "      BL   BM   BR   ML   MM   MR   TL   TM   TR\n",
       "0    1.0  0.5  0.5  1.0  0.5  0.5  1.0  1.0  1.0\n",
       "1    0.5  1.0  0.5  1.0  0.5  0.5  1.0  1.0  1.0\n",
       "2    0.5  0.5  1.0  1.0  0.5  0.5  1.0  1.0  1.0\n",
       "3    0.5  0.0  0.0  1.0  0.5  0.5  1.0  1.0  1.0\n",
       "4    0.0  0.5  0.0  1.0  0.5  0.5  1.0  1.0  1.0\n",
       "..   ...  ...  ...  ...  ...  ...  ...  ...  ...\n",
       "953  0.5  1.0  1.0  1.0  0.5  0.5  0.5  1.0  1.0\n",
       "954  1.0  0.5  1.0  1.0  1.0  0.5  0.5  1.0  0.5\n",
       "955  1.0  0.5  1.0  1.0  0.5  1.0  0.5  1.0  0.5\n",
       "956  1.0  0.5  1.0  0.5  1.0  1.0  0.5  1.0  0.5\n",
       "957  0.5  1.0  1.0  1.0  1.0  0.5  0.5  0.5  1.0\n",
       "\n",
       "[958 rows x 9 columns]"
      ]
     },
     "execution_count": 63,
     "metadata": {},
     "output_type": "execute_result"
    }
   ],
   "source": [
    "def normalize(x):\n",
    "    result = x.copy()\n",
    "    for feature_name in x.columns:\n",
    "        max_value = df[feature_name].max()\n",
    "        min_value = df[feature_name].min()\n",
    "        result[feature_name] = (df[feature_name] - min_value) / (max_value - min_value)\n",
    "    return result\n",
    "\n",
    "\n",
    "x = normalize(x)\n",
    "x\n",
    "\n",
    "#numpy array"
   ]
  },
  {
   "cell_type": "code",
   "execution_count": 92,
   "metadata": {},
   "outputs": [
    {
     "ename": "AttributeError",
     "evalue": "'numpy.ndarray' object has no attribute 'to_numpy'",
     "output_type": "error",
     "traceback": [
      "\u001b[0;31m---------------------------------------------------------------------------\u001b[0m",
      "\u001b[0;31mAttributeError\u001b[0m                            Traceback (most recent call last)",
      "\u001b[0;32m<ipython-input-92-63222e63746e>\u001b[0m in \u001b[0;36m<module>\u001b[0;34m\u001b[0m\n\u001b[0;32m----> 1\u001b[0;31m \u001b[0mx\u001b[0m \u001b[0;34m=\u001b[0m \u001b[0mx\u001b[0m\u001b[0;34m.\u001b[0m\u001b[0mto_numpy\u001b[0m\u001b[0;34m(\u001b[0m\u001b[0mdtype\u001b[0m\u001b[0;34m=\u001b[0m\u001b[0;34m'float'\u001b[0m\u001b[0;34m)\u001b[0m\u001b[0;34m\u001b[0m\u001b[0;34m\u001b[0m\u001b[0m\n\u001b[0m\u001b[1;32m      2\u001b[0m \u001b[0my\u001b[0m \u001b[0;34m=\u001b[0m \u001b[0my\u001b[0m\u001b[0;34m.\u001b[0m\u001b[0mto_numpy\u001b[0m\u001b[0;34m(\u001b[0m\u001b[0mdtype\u001b[0m\u001b[0;34m=\u001b[0m\u001b[0;34m'float'\u001b[0m\u001b[0;34m)\u001b[0m\u001b[0;34m\u001b[0m\u001b[0;34m\u001b[0m\u001b[0m\n",
      "\u001b[0;31mAttributeError\u001b[0m: 'numpy.ndarray' object has no attribute 'to_numpy'"
     ]
    }
   ],
   "source": [
    "x = x.to_numpy(dtype='float')\n",
    "y = y.to_numpy(dtype='float')\n"
   ]
  },
  {
   "cell_type": "code",
   "execution_count": 95,
   "metadata": {},
   "outputs": [
    {
     "data": {
      "text/plain": [
       "(958,)"
      ]
     },
     "execution_count": 95,
     "metadata": {},
     "output_type": "execute_result"
    }
   ],
   "source": [
    "y.shape"
   ]
  },
  {
   "cell_type": "markdown",
   "metadata": {},
   "source": [
    "## Step 2: Build Neural Network\n",
    "\n",
    "To build the neural network, you can refer to your own codes you wrote while following the [Deep Learning with Python, TensorFlow, and Keras tutorial](https://www.youtube.com/watch?v=wQ8BIBpya2k) in the lesson. It's pretty similar to what you will be doing in this lab.\n",
    "\n",
    "1. Split the training and test data.\n",
    "1. Create a `Sequential` model.\n",
    "1. Add several layers to your model. Make sure you use ReLU as the activation function for the middle layers. Use Softmax for the output layer because each output has a single lable and all the label probabilities add up to 1.\n",
    "1. Compile the model using `adam` as the optimizer and `sparse_categorical_crossentropy` as the loss function. For metrics, use `accuracy` for now.\n",
    "1. Fit the training data.\n",
    "1. Evaluate your neural network model with the test data.\n",
    "1. Save your model as `tic-tac-toe.model`."
   ]
  },
  {
   "cell_type": "code",
   "execution_count": 69,
   "metadata": {},
   "outputs": [],
   "source": [
    "# your code here\n",
    "from sklearn.model_selection import train_test_split\n",
    "x_train, x_test, y_train, y_test = train_test_split(x, y, test_size=0.2)"
   ]
  },
  {
   "cell_type": "code",
   "execution_count": 70,
   "metadata": {},
   "outputs": [],
   "source": [
    "import tensorflow as tf"
   ]
  },
  {
   "cell_type": "code",
   "execution_count": 72,
   "metadata": {},
   "outputs": [
    {
     "name": "stdout",
     "output_type": "stream",
     "text": [
      "Train on 766 samples\n",
      "Epoch 1/3\n",
      "766/766 [==============================] - 2s 3ms/sample - loss: 0.8352 - accuracy: 0.5836\n",
      "Epoch 2/3\n",
      "766/766 [==============================] - 0s 372us/sample - loss: 0.6410 - accuracy: 0.6632\n",
      "Epoch 3/3\n",
      "766/766 [==============================] - 0s 288us/sample - loss: 0.6060 - accuracy: 0.6919\n"
     ]
    },
    {
     "data": {
      "text/plain": [
       "<tensorflow.python.keras.callbacks.History at 0x1a3eb71ed0>"
      ]
     },
     "execution_count": 72,
     "metadata": {},
     "output_type": "execute_result"
    }
   ],
   "source": [
    "model = tf.keras.models.Sequential()\n",
    "model.add(tf.keras.layers.Flatten())\n",
    "model.add(tf.keras.layers.Dense(128, activation=tf.nn.relu))\n",
    "model.add(tf.keras.layers.Dense(128, activation=tf.nn.relu))\n",
    "model.add(tf.keras.layers.Dense(3, activation=tf.nn.softmax))\n",
    "\n",
    "model.compile(optimizer=\"adam\", loss=\"sparse_categorical_crossentropy\", metrics =[\"accuracy\"])\n",
    "\n",
    "model.fit(x_train, y_train, epochs=3)"
   ]
  },
  {
   "cell_type": "code",
   "execution_count": 74,
   "metadata": {},
   "outputs": [
    {
     "name": "stdout",
     "output_type": "stream",
     "text": [
      "192/192 [==============================] - 0s 136us/sample - loss: 0.5877 - accuracy: 0.6927\n"
     ]
    }
   ],
   "source": [
    " val_loss, val_acc = model.evaluate(x_test, y_test)"
   ]
  },
  {
   "cell_type": "code",
   "execution_count": 75,
   "metadata": {},
   "outputs": [
    {
     "name": "stdout",
     "output_type": "stream",
     "text": [
      "WARNING:tensorflow:From /Users/alessandro/opt/anaconda3/lib/python3.7/site-packages/tensorflow_core/python/ops/resource_variable_ops.py:1786: calling BaseResourceVariable.__init__ (from tensorflow.python.ops.resource_variable_ops) with constraint is deprecated and will be removed in a future version.\n",
      "Instructions for updating:\n",
      "If using Keras pass *_constraint arguments to layers.\n",
      "INFO:tensorflow:Assets written to: tic-tac-toe.model/assets\n"
     ]
    }
   ],
   "source": [
    "model.save(\"tic-tac-toe.model\")"
   ]
  },
  {
   "cell_type": "markdown",
   "metadata": {},
   "source": [
    "## Step 3: Make Predictions\n",
    "\n",
    "Now load your saved model and use it to make predictions on a few random rows in the test dataset. Check if the predictions are correct."
   ]
  },
  {
   "cell_type": "code",
   "execution_count": 77,
   "metadata": {},
   "outputs": [],
   "source": [
    "# your code here\n",
    "new_model = tf.keras.models.load_model(\"tic-tac-toe.model\")"
   ]
  },
  {
   "cell_type": "code",
   "execution_count": 82,
   "metadata": {},
   "outputs": [
    {
     "data": {
      "text/plain": [
       "array([[3.1259784e-01, 6.8668610e-01, 7.1613071e-04],\n",
       "       [2.3862703e-01, 7.5814563e-01, 3.2272942e-03],\n",
       "       [2.2078381e-01, 7.7791005e-01, 1.3061595e-03],\n",
       "       [2.8455487e-01, 7.1294004e-01, 2.5050270e-03],\n",
       "       [1.5569615e-01, 8.4279692e-01, 1.5069062e-03],\n",
       "       [3.2883459e-01, 6.6913086e-01, 2.0345328e-03],\n",
       "       [1.5064272e-01, 8.4773898e-01, 1.6181973e-03],\n",
       "       [4.1655740e-01, 5.8146751e-01, 1.9750050e-03],\n",
       "       [5.0848818e-01, 4.9042901e-01, 1.0828057e-03],\n",
       "       [2.3109427e-01, 7.6770985e-01, 1.1958418e-03],\n",
       "       [2.6493534e-01, 7.3316646e-01, 1.8982679e-03],\n",
       "       [2.7117145e-01, 7.2725815e-01, 1.5703345e-03],\n",
       "       [2.2538970e-01, 7.6963413e-01, 4.9761520e-03],\n",
       "       [3.3123598e-01, 6.6757554e-01, 1.1884777e-03],\n",
       "       [4.1743696e-01, 5.8049875e-01, 2.0642984e-03],\n",
       "       [2.9804349e-01, 6.9801277e-01, 3.9436799e-03],\n",
       "       [3.3693346e-01, 6.6194391e-01, 1.1226799e-03],\n",
       "       [3.4358642e-01, 6.5087175e-01, 5.5418271e-03],\n",
       "       [2.1698260e-01, 7.8120303e-01, 1.8144114e-03],\n",
       "       [3.9798704e-01, 5.9554970e-01, 6.4632618e-03],\n",
       "       [3.2735005e-01, 6.7042774e-01, 2.2221319e-03],\n",
       "       [4.0927500e-01, 5.8913821e-01, 1.5867209e-03],\n",
       "       [4.2828315e-01, 5.7035673e-01, 1.3600817e-03],\n",
       "       [3.8572723e-01, 6.0905778e-01, 5.2150371e-03],\n",
       "       [2.6337227e-01, 7.3604310e-01, 5.8466312e-04],\n",
       "       [1.9315720e-01, 8.0186260e-01, 4.9801720e-03],\n",
       "       [2.1665415e-01, 7.8275794e-01, 5.8784941e-04],\n",
       "       [3.2144567e-01, 6.7651188e-01, 2.0424807e-03],\n",
       "       [3.3818403e-01, 6.6134894e-01, 4.6704136e-04],\n",
       "       [3.8339698e-01, 6.1428994e-01, 2.3131911e-03],\n",
       "       [3.2520521e-01, 6.7324787e-01, 1.5468877e-03],\n",
       "       [3.1343025e-01, 6.8458551e-01, 1.9842708e-03],\n",
       "       [2.1283929e-01, 7.8370810e-01, 3.4526179e-03],\n",
       "       [2.7235568e-01, 7.2619325e-01, 1.4510643e-03],\n",
       "       [2.0827150e-01, 7.9050952e-01, 1.2189545e-03],\n",
       "       [1.9275717e-01, 8.0608529e-01, 1.1575398e-03],\n",
       "       [3.0516997e-01, 6.8814898e-01, 6.6810553e-03],\n",
       "       [2.9062697e-01, 7.0577127e-01, 3.6017681e-03],\n",
       "       [4.9787402e-01, 5.0035578e-01, 1.7702183e-03],\n",
       "       [2.6621205e-01, 7.2963440e-01, 4.1536456e-03],\n",
       "       [1.3679652e-01, 8.5696584e-01, 6.2376629e-03],\n",
       "       [2.5112313e-01, 7.4594992e-01, 2.9269166e-03],\n",
       "       [2.6305559e-01, 7.3558515e-01, 1.3592585e-03],\n",
       "       [2.9904625e-01, 6.9695854e-01, 3.9951438e-03],\n",
       "       [1.5082628e-01, 8.4717011e-01, 2.0036341e-03],\n",
       "       [2.2966161e-01, 7.6918226e-01, 1.1560593e-03],\n",
       "       [3.6539078e-01, 6.2898356e-01, 5.6256144e-03],\n",
       "       [2.3378079e-01, 7.6499158e-01, 1.2275676e-03],\n",
       "       [1.6706996e-01, 8.3162266e-01, 1.3072739e-03],\n",
       "       [3.0312493e-01, 6.9462699e-01, 2.2481298e-03],\n",
       "       [4.0198439e-01, 5.9022832e-01, 7.7872956e-03],\n",
       "       [2.3569557e-01, 7.6275069e-01, 1.5536721e-03],\n",
       "       [1.7096876e-01, 8.2740873e-01, 1.6225410e-03],\n",
       "       [1.8791391e-01, 8.0941194e-01, 2.6740872e-03],\n",
       "       [4.0678525e-01, 5.9136230e-01, 1.8523998e-03],\n",
       "       [2.0396487e-01, 7.9403853e-01, 1.9966238e-03],\n",
       "       [3.7731260e-01, 6.2127531e-01, 1.4121400e-03],\n",
       "       [1.8854885e-01, 8.0891502e-01, 2.5361176e-03],\n",
       "       [3.2987857e-01, 6.6769916e-01, 2.4222482e-03],\n",
       "       [2.3857775e-01, 7.5684398e-01, 4.5783101e-03],\n",
       "       [3.5035911e-01, 6.4899594e-01, 6.4503663e-04],\n",
       "       [2.4016657e-01, 7.5850886e-01, 1.3245930e-03],\n",
       "       [4.4713572e-01, 5.5198133e-01, 8.8297972e-04],\n",
       "       [3.3660454e-01, 6.5938729e-01, 4.0081204e-03],\n",
       "       [2.4724567e-01, 7.5106508e-01, 1.6892864e-03],\n",
       "       [2.4302880e-01, 7.5419003e-01, 2.7811406e-03],\n",
       "       [1.9752376e-01, 8.0116725e-01, 1.3089688e-03],\n",
       "       [2.9546353e-01, 7.0290720e-01, 1.6292093e-03],\n",
       "       [3.9411908e-01, 6.0529941e-01, 5.8150425e-04],\n",
       "       [2.3457165e-01, 7.6414889e-01, 1.2794662e-03],\n",
       "       [3.0065268e-01, 6.9782519e-01, 1.5222015e-03],\n",
       "       [1.5899335e-01, 8.3709776e-01, 3.9088978e-03],\n",
       "       [2.9535329e-01, 7.0178950e-01, 2.8571240e-03],\n",
       "       [2.8489447e-01, 7.1277988e-01, 2.3256612e-03],\n",
       "       [3.2613251e-01, 6.7012268e-01, 3.7447242e-03],\n",
       "       [3.6384729e-01, 6.3522542e-01, 9.2733803e-04],\n",
       "       [1.5580530e-01, 8.4219038e-01, 2.0043349e-03],\n",
       "       [2.5902724e-01, 7.3965943e-01, 1.3132675e-03],\n",
       "       [2.2635007e-01, 7.7027142e-01, 3.3784236e-03],\n",
       "       [4.5502460e-01, 5.4312289e-01, 1.8524701e-03],\n",
       "       [1.8479660e-01, 8.1113273e-01, 4.0706089e-03],\n",
       "       [2.3973186e-01, 7.5884491e-01, 1.4232359e-03],\n",
       "       [1.7734046e-01, 8.1865454e-01, 4.0050829e-03],\n",
       "       [3.1375840e-01, 6.8165869e-01, 4.5829252e-03],\n",
       "       [3.5426190e-01, 6.4514363e-01, 5.9446134e-04],\n",
       "       [2.2012801e-01, 7.7930999e-01, 5.6209235e-04],\n",
       "       [2.9792827e-01, 6.9984794e-01, 2.2238309e-03],\n",
       "       [3.0442178e-01, 6.9463968e-01, 9.3849894e-04],\n",
       "       [5.3789580e-01, 4.6087739e-01, 1.2268082e-03],\n",
       "       [1.9472793e-01, 8.0291653e-01, 2.3555921e-03],\n",
       "       [3.4723616e-01, 6.4662707e-01, 6.1368258e-03],\n",
       "       [2.9788372e-01, 6.9520605e-01, 6.9102189e-03],\n",
       "       [2.8541708e-01, 7.1274722e-01, 1.8356799e-03],\n",
       "       [5.4299873e-01, 4.5562196e-01, 1.3793200e-03],\n",
       "       [2.5178969e-01, 7.4642366e-01, 1.7866769e-03],\n",
       "       [3.2848871e-01, 6.6500014e-01, 6.5111369e-03],\n",
       "       [3.2739365e-01, 6.7078745e-01, 1.8188710e-03],\n",
       "       [3.8148320e-01, 6.1652738e-01, 1.9894307e-03],\n",
       "       [2.3813803e-01, 7.5860167e-01, 3.2602679e-03],\n",
       "       [2.5494894e-01, 7.3956144e-01, 5.4896176e-03],\n",
       "       [1.6834293e-01, 8.2938731e-01, 2.2697593e-03],\n",
       "       [1.6325402e-01, 8.2947260e-01, 7.2734118e-03],\n",
       "       [1.5290388e-01, 8.4028447e-01, 6.8116155e-03],\n",
       "       [2.0300891e-01, 7.9532874e-01, 1.6624167e-03],\n",
       "       [1.4843780e-01, 8.4981132e-01, 1.7509691e-03],\n",
       "       [3.1830755e-01, 6.8019575e-01, 1.4966660e-03],\n",
       "       [3.9370662e-01, 6.0400307e-01, 2.2903222e-03],\n",
       "       [1.8457191e-01, 8.1403667e-01, 1.3915055e-03],\n",
       "       [2.0906964e-01, 7.8863084e-01, 2.2995486e-03],\n",
       "       [2.2093581e-01, 7.7303928e-01, 6.0248985e-03],\n",
       "       [4.6641421e-01, 5.2692664e-01, 6.6591185e-03],\n",
       "       [2.7917293e-01, 7.1914530e-01, 1.6817276e-03],\n",
       "       [3.2559028e-01, 6.7124534e-01, 3.1643989e-03],\n",
       "       [4.1906670e-01, 5.7910413e-01, 1.8291894e-03],\n",
       "       [2.3385401e-01, 7.6535124e-01, 7.9467479e-04],\n",
       "       [1.6701086e-01, 8.2929564e-01, 3.6934884e-03],\n",
       "       [2.9737484e-01, 7.0151597e-01, 1.1091880e-03],\n",
       "       [3.8562006e-01, 6.1244804e-01, 1.9318269e-03],\n",
       "       [3.1378567e-01, 6.7760020e-01, 8.6141489e-03],\n",
       "       [1.8372510e-01, 8.1233418e-01, 3.9407047e-03],\n",
       "       [4.3074644e-01, 5.6860954e-01, 6.4398994e-04],\n",
       "       [3.1740221e-01, 6.7884117e-01, 3.7565664e-03],\n",
       "       [4.2515579e-01, 5.7409054e-01, 7.5370388e-04],\n",
       "       [2.9083580e-01, 7.0800972e-01, 1.1545579e-03],\n",
       "       [2.9261965e-01, 7.0566803e-01, 1.7123375e-03],\n",
       "       [2.7707097e-01, 7.1584487e-01, 7.0841573e-03],\n",
       "       [3.8977823e-01, 6.0808092e-01, 2.1408845e-03],\n",
       "       [2.7482125e-01, 7.2386771e-01, 1.3110094e-03],\n",
       "       [2.6917821e-01, 7.2679532e-01, 4.0264158e-03],\n",
       "       [3.0466893e-01, 6.9396287e-01, 1.3681316e-03],\n",
       "       [3.2895023e-01, 6.6673720e-01, 4.3125795e-03],\n",
       "       [1.9383244e-01, 8.0432093e-01, 1.8466031e-03],\n",
       "       [3.5676375e-01, 6.4260995e-01, 6.2621501e-04],\n",
       "       [1.4375101e-01, 8.5431278e-01, 1.9361705e-03],\n",
       "       [1.8507938e-01, 8.1349748e-01, 1.4231729e-03],\n",
       "       [3.2247135e-01, 6.7640805e-01, 1.1205691e-03],\n",
       "       [4.9625498e-01, 5.0038624e-01, 3.3588046e-03],\n",
       "       [2.2213615e-01, 7.7681071e-01, 1.0530821e-03],\n",
       "       [2.9229385e-01, 7.0383984e-01, 3.8662781e-03],\n",
       "       [3.2096803e-01, 6.7771000e-01, 1.3220608e-03],\n",
       "       [4.4712964e-01, 5.5104882e-01, 1.8215192e-03],\n",
       "       [2.5809354e-01, 7.4006283e-01, 1.8436075e-03],\n",
       "       [3.5656124e-01, 6.3626099e-01, 7.1777222e-03],\n",
       "       [2.8422999e-01, 7.1387583e-01, 1.8941954e-03],\n",
       "       [3.9712524e-01, 5.9687656e-01, 5.9981695e-03],\n",
       "       [5.3040648e-01, 4.6814260e-01, 1.4508701e-03],\n",
       "       [2.5816467e-01, 7.4062061e-01, 1.2147555e-03],\n",
       "       [1.3306290e-01, 8.6515421e-01, 1.7829032e-03],\n",
       "       [1.6098036e-01, 8.3690262e-01, 2.1170948e-03],\n",
       "       [2.4662127e-01, 7.5133783e-01, 2.0409157e-03],\n",
       "       [2.7187631e-01, 7.2742587e-01, 6.9784839e-04],\n",
       "       [3.3183667e-01, 6.6645765e-01, 1.7057043e-03],\n",
       "       [3.4579217e-01, 6.5208703e-01, 2.1207894e-03],\n",
       "       [4.2078847e-01, 5.7842433e-01, 7.8714138e-04],\n",
       "       [3.6407238e-01, 6.3481992e-01, 1.1076847e-03],\n",
       "       [2.8801656e-01, 7.1110409e-01, 8.7935536e-04],\n",
       "       [1.4478414e-01, 8.5351402e-01, 1.7018345e-03],\n",
       "       [2.6187500e-01, 7.3671603e-01, 1.4090256e-03],\n",
       "       [2.2218889e-01, 7.7662724e-01, 1.1838034e-03],\n",
       "       [2.3332976e-01, 7.6222640e-01, 4.4437847e-03],\n",
       "       [5.1310837e-01, 4.8540950e-01, 1.4821739e-03],\n",
       "       [2.2127998e-01, 7.7653629e-01, 2.1837552e-03],\n",
       "       [2.2708803e-01, 7.7086496e-01, 2.0470582e-03],\n",
       "       [2.5021917e-01, 7.4851644e-01, 1.2644063e-03],\n",
       "       [2.1353875e-01, 7.8488183e-01, 1.5794840e-03],\n",
       "       [3.2625601e-01, 6.7224008e-01, 1.5039723e-03],\n",
       "       [2.5873309e-01, 7.3606735e-01, 5.1994650e-03],\n",
       "       [1.6781634e-01, 8.3008927e-01, 2.0944772e-03],\n",
       "       [2.7419806e-01, 7.2531080e-01, 4.9109262e-04],\n",
       "       [3.7740961e-01, 6.1785364e-01, 4.7367192e-03],\n",
       "       [2.1532831e-01, 7.8414130e-01, 5.3041184e-04],\n",
       "       [4.2098773e-01, 5.7742667e-01, 1.5855747e-03],\n",
       "       [3.6524037e-01, 6.2905258e-01, 5.7070381e-03],\n",
       "       [3.9360762e-01, 6.0579336e-01, 5.9909286e-04],\n",
       "       [2.9455566e-01, 7.0316303e-01, 2.2812625e-03],\n",
       "       [2.4926305e-01, 7.4953753e-01, 1.1994772e-03],\n",
       "       [3.3310843e-01, 6.6597074e-01, 9.2080946e-04],\n",
       "       [3.4945524e-01, 6.4907104e-01, 1.4737340e-03],\n",
       "       [2.7493808e-01, 7.2288877e-01, 2.1731898e-03],\n",
       "       [3.4727016e-01, 6.5043521e-01, 2.2946335e-03],\n",
       "       [3.5861599e-01, 6.3933563e-01, 2.0483257e-03],\n",
       "       [3.4303704e-01, 6.5638357e-01, 5.7936774e-04],\n",
       "       [2.8923979e-01, 7.0868379e-01, 2.0764151e-03],\n",
       "       [2.0638189e-01, 7.9218447e-01, 1.4336264e-03],\n",
       "       [4.6424118e-01, 5.3004712e-01, 5.7117208e-03],\n",
       "       [2.7570453e-01, 7.1852434e-01, 5.7710414e-03],\n",
       "       [4.9311548e-01, 5.0539368e-01, 1.4908757e-03],\n",
       "       [2.3577949e-01, 7.6063168e-01, 3.5888839e-03],\n",
       "       [3.5348594e-01, 6.4445239e-01, 2.0616702e-03],\n",
       "       [4.6231806e-01, 5.3184628e-01, 5.8356537e-03],\n",
       "       [2.8247195e-01, 7.1571118e-01, 1.8168951e-03],\n",
       "       [1.9201007e-01, 8.0607694e-01, 1.9129596e-03]], dtype=float32)"
      ]
     },
     "execution_count": 82,
     "metadata": {},
     "output_type": "execute_result"
    }
   ],
   "source": [
    "prediction = new_model.predict(x_test)\n",
    "prediction"
   ]
  },
  {
   "cell_type": "code",
   "execution_count": 98,
   "metadata": {},
   "outputs": [
    {
     "data": {
      "text/plain": [
       "array([0.3252052 , 0.6732479 , 0.00154689], dtype=float32)"
      ]
     },
     "execution_count": 98,
     "metadata": {},
     "output_type": "execute_result"
    }
   ],
   "source": [
    "prediction[30]"
   ]
  },
  {
   "cell_type": "markdown",
   "metadata": {},
   "source": [
    "## Step 4: Improve Your Model\n",
    "\n",
    "Did your model achieve low loss (<0.1) and high accuracy (>0.95)? If not, try to improve your model.\n",
    "\n",
    "But how? There are so many things you can play with in Tensorflow and in the next challenge you'll learn about these things. But in this challenge, let's just do a few things to see if they will help.\n",
    "\n",
    "* Add more layers to your model. If the data are complex you need more layers. But don't use more layers than you need. If adding more layers does not improve the model performance you don't need additional layers.\n",
    "* Adjust the learning rate when you compile the model. This means you will create a custom `tf.keras.optimizers.Adam` instance where you specify the learning rate you want. Then pass the instance to `model.compile` as the optimizer.\n",
    "    * `tf.keras.optimizers.Adam` [reference](https://www.tensorflow.org/api_docs/python/tf/keras/optimizers/Adam).\n",
    "    * Don't worry if you don't understand what the learning rate does. You'll learn about it in the next challenge.\n",
    "* Adjust the number of epochs when you fit the training data to the model. Your model performance continues to improve as you train more epochs. But eventually it will reach the ceiling and the performance will stay the same."
   ]
  },
  {
   "cell_type": "code",
   "execution_count": 109,
   "metadata": {},
   "outputs": [
    {
     "name": "stdout",
     "output_type": "stream",
     "text": [
      "Train on 766 samples\n",
      "Epoch 1/20\n",
      "766/766 [==============================] - 1s 2ms/sample - loss: 0.7531 - accuracy: 0.6305\n",
      "Epoch 2/20\n",
      "766/766 [==============================] - 0s 205us/sample - loss: 0.6265 - accuracy: 0.6567\n",
      "Epoch 3/20\n",
      "766/766 [==============================] - 0s 210us/sample - loss: 0.5865 - accuracy: 0.7010\n",
      "Epoch 4/20\n",
      "766/766 [==============================] - 0s 209us/sample - loss: 0.5105 - accuracy: 0.7572\n",
      "Epoch 5/20\n",
      "766/766 [==============================] - 0s 187us/sample - loss: 0.4741 - accuracy: 0.7807\n",
      "Epoch 6/20\n",
      "766/766 [==============================] - 0s 253us/sample - loss: 0.3911 - accuracy: 0.8277\n",
      "Epoch 7/20\n",
      "766/766 [==============================] - 0s 238us/sample - loss: 0.3572 - accuracy: 0.8342\n",
      "Epoch 8/20\n",
      "766/766 [==============================] - 0s 278us/sample - loss: 0.2801 - accuracy: 0.8799\n",
      "Epoch 9/20\n",
      "766/766 [==============================] - 0s 349us/sample - loss: 0.2396 - accuracy: 0.8943\n",
      "Epoch 10/20\n",
      "766/766 [==============================] - 0s 384us/sample - loss: 0.2304 - accuracy: 0.9021\n",
      "Epoch 11/20\n",
      "766/766 [==============================] - 0s 443us/sample - loss: 0.1993 - accuracy: 0.9164\n",
      "Epoch 12/20\n",
      "766/766 [==============================] - 0s 418us/sample - loss: 0.1486 - accuracy: 0.9426\n",
      "Epoch 13/20\n",
      "766/766 [==============================] - 0s 357us/sample - loss: 0.0956 - accuracy: 0.9621\n",
      "Epoch 14/20\n",
      "766/766 [==============================] - 0s 404us/sample - loss: 0.0682 - accuracy: 0.9726\n",
      "Epoch 15/20\n",
      "766/766 [==============================] - 0s 308us/sample - loss: 0.1166 - accuracy: 0.9504\n",
      "Epoch 16/20\n",
      "766/766 [==============================] - 0s 477us/sample - loss: 0.0920 - accuracy: 0.9621\n",
      "Epoch 17/20\n",
      "766/766 [==============================] - 0s 482us/sample - loss: 0.0466 - accuracy: 0.9869\n",
      "Epoch 18/20\n",
      "766/766 [==============================] - 0s 352us/sample - loss: 0.0669 - accuracy: 0.9739\n",
      "Epoch 19/20\n",
      "766/766 [==============================] - 0s 336us/sample - loss: 0.1040 - accuracy: 0.9648\n",
      "Epoch 20/20\n",
      "766/766 [==============================] - 0s 330us/sample - loss: 0.0535 - accuracy: 0.9843\n"
     ]
    },
    {
     "data": {
      "text/plain": [
       "<tensorflow.python.keras.callbacks.History at 0x1a40cc8550>"
      ]
     },
     "execution_count": 109,
     "metadata": {},
     "output_type": "execute_result"
    }
   ],
   "source": [
    "# your code here\n",
    "tf.keras.optimizers.Adam(\n",
    "    learning_rate=0.001, beta_1=0.9, beta_2=0.999, epsilon=1e-07, amsgrad=False,\n",
    "    name='Adam')\n",
    "\n",
    "model2 = tf.keras.models.Sequential()\n",
    "model2.add(tf.keras.layers.Flatten())\n",
    "model2.add(tf.keras.layers.Dense(128, activation=tf.nn.relu))\n",
    "model2.add(tf.keras.layers.Dense(128, activation=tf.nn.relu))\n",
    "model2.add(tf.keras.layers.Dense(128, activation=tf.nn.relu))\n",
    "model2.add(tf.keras.layers.Dense(128, activation=tf.nn.relu))\n",
    "model2.add(tf.keras.layers.Dense(128, activation=tf.nn.relu))\n",
    "model2.add(tf.keras.layers.Dense(128, activation=tf.nn.relu))\n",
    "model2.add(tf.keras.layers.Dense(3, activation=tf.nn.softmax))\n",
    "\n",
    "model2.compile(optimizer=\"Adam\", loss=\"sparse_categorical_crossentropy\", metrics =[\"accuracy\"])\n",
    "\n",
    "model2.fit(x_train, y_train, epochs=20)"
   ]
  },
  {
   "cell_type": "code",
   "execution_count": 110,
   "metadata": {},
   "outputs": [
    {
     "name": "stdout",
     "output_type": "stream",
     "text": [
      "192/192 [==============================] - 0s 998us/sample - loss: 0.3024 - accuracy: 0.9167\n"
     ]
    }
   ],
   "source": [
    " val_loss, val_acc = model2.evaluate(x_test, y_test)"
   ]
  },
  {
   "cell_type": "markdown",
   "metadata": {},
   "source": [
    "**Which approach(es) did you find helpful to improve your model performance?**"
   ]
  },
  {
   "cell_type": "code",
   "execution_count": null,
   "metadata": {},
   "outputs": [],
   "source": [
    "# your answer here\n",
    "\n",
    "# increasing the epoch was the most efficient\n"
   ]
  }
 ],
 "metadata": {
  "kernelspec": {
   "display_name": "Python 3",
   "language": "python",
   "name": "python3"
  },
  "language_info": {
   "codemirror_mode": {
    "name": "ipython",
    "version": 3
   },
   "file_extension": ".py",
   "mimetype": "text/x-python",
   "name": "python",
   "nbconvert_exporter": "python",
   "pygments_lexer": "ipython3",
   "version": "3.7.4"
  }
 },
 "nbformat": 4,
 "nbformat_minor": 2
}
